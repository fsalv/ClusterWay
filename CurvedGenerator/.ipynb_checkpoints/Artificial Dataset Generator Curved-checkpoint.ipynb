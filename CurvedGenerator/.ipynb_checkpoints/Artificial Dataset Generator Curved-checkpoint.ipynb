{
 "cells": [
  {
   "cell_type": "markdown",
   "metadata": {},
   "source": [
    "# Artificial Masks Generator\n",
    "\n",
    "Hyper-generalized artificial masks dataset generator"
   ]
  },
  {
   "cell_type": "code",
   "execution_count": null,
   "metadata": {
    "ExecuteTime": {
     "end_time": "2022-06-21T14:59:54.049490Z",
     "start_time": "2022-06-21T14:59:53.541000Z"
    }
   },
   "outputs": [],
   "source": [
    "%matplotlib inline\n",
    "%reload_ext autoreload\n",
    "%autoreload 2"
   ]
  },
  {
   "cell_type": "code",
   "execution_count": null,
   "metadata": {
    "ExecuteTime": {
     "end_time": "2022-06-21T14:59:54.265429Z",
     "start_time": "2022-06-21T14:59:54.064856Z"
    }
   },
   "outputs": [],
   "source": [
    "#imports\n",
    "\n",
    "import os\n",
    "import shutil\n",
    "import cv2\n",
    "import numpy as np\n",
    "import random\n",
    "import pandas as pd\n",
    "import matplotlib.pyplot as plt\n",
    "from tqdm.notebook import tqdm"
   ]
  },
  {
   "cell_type": "code",
   "execution_count": null,
   "metadata": {
    "ExecuteTime": {
     "end_time": "2022-06-21T15:01:17.652826Z",
     "start_time": "2022-06-21T15:01:16.118974Z"
    }
   },
   "outputs": [],
   "source": [
    "from utils.maskgen import *\n",
    "from utils.visualization import *\n",
    "from utils.geometry import *"
   ]
  },
  {
   "cell_type": "code",
   "execution_count": null,
   "metadata": {
    "ExecuteTime": {
     "end_time": "2022-06-21T15:07:30.237137Z",
     "start_time": "2022-06-21T15:07:30.218721Z"
    }
   },
   "outputs": [],
   "source": [
    "# important paths and names\n",
    "PATH_DIR = os.path.abspath('.')\n",
    "\n",
    "TRAIN_DATA_PATH = os.path.join(PATH_DIR, '../Datasets/curved/train')\n",
    "VAL_DATA_PATH = os.path.join(PATH_DIR, '../Datasets/curved/val')\n",
    "TEST_DATA_PATH = os.path.join(PATH_DIR, '../Datasets/curved/test')\n",
    "\n",
    "waypoint_file_name = 'waypoints.csv'"
   ]
  },
  {
   "cell_type": "markdown",
   "metadata": {},
   "source": [
    "## Parameters\n"
   ]
  },
  {
   "cell_type": "code",
   "execution_count": null,
   "metadata": {
    "ExecuteTime": {
     "end_time": "2022-06-21T15:07:30.519873Z",
     "start_time": "2022-06-21T15:07:30.501671Z"
    }
   },
   "outputs": [],
   "source": [
    "N_SAMPLES_train = 10\n",
    "N_SAMPLES_val = 10\n",
    "N_SAMPLES_test = 10\n",
    "\n",
    "CURVED = True"
   ]
  },
  {
   "cell_type": "code",
   "execution_count": null,
   "metadata": {
    "ExecuteTime": {
     "end_time": "2022-06-21T15:07:30.655423Z",
     "start_time": "2022-06-21T15:07:30.635857Z"
    }
   },
   "outputs": [],
   "source": [
    "NROWS_MIN = 10 # min number of rows in a parcel\n",
    "NROWS_MAX = 50 # max number of rows in a parcel\n",
    "\n",
    "H,W = 800,800 # final image resolution\n",
    "\n",
    "# minimum acceptable interrow distance\n",
    "MIN_IRD = 10\n",
    "\n",
    "# range of holes dimension \n",
    "HOLE_DIM = [3,6]\n",
    "\n",
    "# % probability of generate a hole (for every single point of the rows)\n",
    "HOLE_PROB = 0.1\n",
    "\n",
    "# minimum initial and final points before/after a hole\n",
    "HOLE_FRAME = 30\n",
    "\n",
    "# range of row thickness \n",
    "RADIUS = [1,2]\n",
    "\n",
    "# border (can't be 0)\n",
    "BORDER = 40\n",
    "BORDER_AREA = (H-2*BORDER)*(W-2*BORDER)\n",
    "\n",
    "# angle variability\n",
    "ANGLE_VAR = 1e-3\n",
    "\n",
    "# border variability\n",
    "BORDER_VAR = 2\n",
    "\n",
    "# ratios for random zoom (max is 100)\n",
    "RATIO = [90,100]\n",
    "\n",
    "# max value of l for clipping start/end of rows \n",
    "MAX_L = 400\n",
    "\n",
    "# max displacement of center points to create curved rows\n",
    "MAX_CURVED_DISPL = 100"
   ]
  },
  {
   "cell_type": "code",
   "execution_count": null,
   "metadata": {
    "ExecuteTime": {
     "end_time": "2022-06-21T15:07:30.807896Z",
     "start_time": "2022-06-21T15:07:30.787921Z"
    }
   },
   "outputs": [],
   "source": [
    "def gen_wp_new(line1,line2,index=0):\n",
    "    \"\"\"\n",
    "        Compute wp between two adjacent lines from the points in index position (0: line starting point, -1: line ending point)\n",
    "    \"\"\"\n",
    "    points1 = np.stack(line1[:2], axis=-1)\n",
    "    points2 = np.stack(line2[:2], axis=-1)\n",
    "    p1 = points1[index]\n",
    "    p2 = points2[index]\n",
    "    \n",
    "    d1 = np.linalg.norm(p1-points2, 2, axis=1)\n",
    "    d2 = np.linalg.norm(p2-points1, 2, axis=1)\n",
    "    n1 = np.argmin(d1)\n",
    "    n2 = np.argmin(d2)\n",
    "    k = np.argmin((d1[n1], d2[n2]))\n",
    "    pa,pb = (p2,points1[n2]) if k else (p1,points2[n1])\n",
    "    m = np.mean((pa, pb), axis=0)\n",
    "    return np.round(m).astype('int')\n",
    "\n",
    "\n",
    "def gen_waypoints_new(row_lines):\n",
    "    \"\"\"\n",
    "        Generate wp for all the rows\n",
    "    \"\"\"\n",
    "    waypoints = []\n",
    "    for row in range(1,len(row_lines)):    # no wp before the first and after the last row\n",
    "        waypoints.append(gen_wp_new(row_lines[row-1],row_lines[row],index=0))\n",
    "        waypoints.append(gen_wp_new(row_lines[row-1],row_lines[row],index=-1))\n",
    "    return waypoints\n"
   ]
  },
  {
   "cell_type": "code",
   "execution_count": null,
   "metadata": {
    "ExecuteTime": {
     "end_time": "2022-06-21T15:07:30.922598Z",
     "start_time": "2022-06-21T15:07:30.900979Z"
    }
   },
   "outputs": [],
   "source": [
    "def get_mask_and_wp():\n",
    "    acceptable = False\n",
    "    while not acceptable:\n",
    "        original_nrows = random.randint(NROWS_MIN,NROWS_MAX)  # number of rows\n",
    "        alpha = random.uniform(0, np.pi)                       # orientation\n",
    "\n",
    "        if np.random.uniform()<0.75:                          # generate random borders (25% of time straight lines)\n",
    "            done = False\n",
    "            while not done:\n",
    "                borders = gen_borders(BORDER,H,W)  \n",
    "                done = check_borders_area(borders,BORDER_AREA)\n",
    "        else:\n",
    "            borders = [(np.pi/2,np.array((BORDER,BORDER))),(0,np.array((BORDER,H-BORDER))),\n",
    "                       (-np.pi/2,np.array((W-BORDER,H-BORDER))),(np.pi,np.array((W-BORDER,BORDER)))]\n",
    "\n",
    "        c = find_active_area_center(borders)\n",
    "        Q,nrows = find_intrarow_distance(original_nrows,alpha,borders,c)\n",
    "\n",
    "        centers = find_centers(nrows,alpha,c,Q)\n",
    "\n",
    "        points = [] # start and ending point\n",
    "        choice = np.random.rand()\n",
    "        shorter_l_ratios = (1,1)\n",
    "        clip_l = None\n",
    "        if 0.3<choice<0.6: # 30% of times, shorter than border intersection, with border shape\n",
    "            shorter_l_ratios = (0.25 + 0.75*np.random.rand(2))\n",
    "        elif choice>0.6: # 30% of times, shorter than border intersection, clipped\n",
    "            clip_l = (0.25 + 0.75*np.random.rand(2))*MAX_L\n",
    "        for c in centers:        \n",
    "            points.append(gen_start_and_end(alpha,c,borders,H,W,ANGLE_VAR,BORDER_VAR,shorter_l_ratios,clip_l))\n",
    "\n",
    "        mask,row_lines,good = create_mask(points,borders,H,W,RADIUS,HOLE_PROB,HOLE_DIM,\n",
    "                                          HOLE_FRAME,MAX_CURVED_DISPL,curved=CURVED)\n",
    "        if not good:\n",
    "            continue\n",
    "        ird = get_ird(row_lines)\n",
    "        if ird.min()>=MIN_IRD: # not too narrow rows\n",
    "            acceptable = True\n",
    "            wp = gen_waypoints(row_lines)\n",
    "            mask,wp,centers,points = random_zoom(mask,wp,centers,points,RATIO,H,W)\n",
    "    return mask,wp,centers,points"
   ]
  },
  {
   "cell_type": "code",
   "execution_count": null,
   "metadata": {
    "ExecuteTime": {
     "end_time": "2022-06-21T15:07:33.941037Z",
     "start_time": "2022-06-21T15:07:31.130899Z"
    }
   },
   "outputs": [],
   "source": [
    "mask,wp,centers,points = get_mask_and_wp()\n",
    "\n",
    "visualize_mask(mask, dim=(20,20), wp=wp, wp_class=[0,1] * (len(wp)//2), rad=6)"
   ]
  },
  {
   "cell_type": "markdown",
   "metadata": {},
   "source": [
    "## Train dataset generation"
   ]
  },
  {
   "cell_type": "code",
   "execution_count": null,
   "metadata": {
    "ExecuteTime": {
     "end_time": "2022-06-21T15:07:43.574372Z",
     "start_time": "2022-06-21T15:07:33.965822Z"
    },
    "scrolled": true
   },
   "outputs": [],
   "source": [
    "if os.path.isdir(TRAIN_DATA_PATH):\n",
    "    shutil.rmtree(TRAIN_DATA_PATH)\n",
    "os.makedirs(TRAIN_DATA_PATH)\n",
    "\n",
    "wp_dic = {}\n",
    "i = 0\n",
    "for sample in tqdm(range(N_SAMPLES_train)):\n",
    "    mask,wp,centers,points = get_mask_and_wp()\n",
    "    save_img(mask,sample,data_path=TRAIN_DATA_PATH)\n",
    "\n",
    "    #save waypoints in the dict\n",
    "    for index in range(len(wp)):\n",
    "        wp_dic[i] = {'N_img':\"img{}\".format(sample), 'x_wp':wp[index][0], 'y_wp':wp[index][1], 'class': index%2}\n",
    "        i +=1\n",
    "    #visualize_mask(mask,wp=wp,rad=3,dim=(12,12))\n",
    "\n",
    "#save the datafame\n",
    "df = pd.DataFrame.from_dict(wp_dic, \"index\")\n",
    "df.to_csv(TRAIN_DATA_PATH+'/waypoints.csv', index=False)"
   ]
  },
  {
   "cell_type": "code",
   "execution_count": null,
   "metadata": {
    "ExecuteTime": {
     "end_time": "2022-06-21T15:07:43.768839Z",
     "start_time": "2022-06-21T15:07:43.598977Z"
    }
   },
   "outputs": [],
   "source": [
    "# visualize an example \n",
    "\n",
    "index = np.random.randint(N_SAMPLES_train)\n",
    "\n",
    "mask = cv2.imread(TRAIN_DATA_PATH+f'/img{index}.png')/255\n",
    "df = pd.read_csv(TRAIN_DATA_PATH+'/waypoints.csv')\n",
    "points = df.loc[df['N_img'] == f'img{index}'].to_numpy()[:,1:].astype('uint32')\n",
    "visualize_mask(mask, wp=points, dim=(10,10), rad=3)"
   ]
  },
  {
   "cell_type": "markdown",
   "metadata": {},
   "source": [
    "##  Validation dataset generation"
   ]
  },
  {
   "cell_type": "code",
   "execution_count": null,
   "metadata": {
    "ExecuteTime": {
     "end_time": "2022-06-21T15:07:53.484368Z",
     "start_time": "2022-06-21T15:07:43.793574Z"
    }
   },
   "outputs": [],
   "source": [
    "if os.path.isdir(VAL_DATA_PATH):\n",
    "    shutil.rmtree(VAL_DATA_PATH)\n",
    "os.mkdir(VAL_DATA_PATH)\n",
    "\n",
    "\n",
    "wp_dic = {}\n",
    "i = 0\n",
    "for sample in tqdm(range(N_SAMPLES_val)):\n",
    "    mask,wp,centers,points = get_mask_and_wp()\n",
    "    save_img(mask,sample,data_path=VAL_DATA_PATH)\n",
    "\n",
    "    #save waypoints in the dict\n",
    "    for index in range(len(wp)):\n",
    "        wp_dic[i] = {'N_img':\"img{}\".format(sample),'x_wp':wp[index][0],'y_wp':wp[index][1], 'class': index%2}\n",
    "        i +=1\n",
    "\n",
    "    #visualize_mask(mask,wp=wp,rad=3,dim=(12,12))\n",
    "\n",
    "#save the datafame\n",
    "df = pd.DataFrame.from_dict(wp_dic, \"index\")\n",
    "df.to_csv(VAL_DATA_PATH+'/waypoints.csv', index=False)"
   ]
  },
  {
   "cell_type": "code",
   "execution_count": null,
   "metadata": {
    "ExecuteTime": {
     "end_time": "2022-06-21T15:07:53.684035Z",
     "start_time": "2022-06-21T15:07:53.508164Z"
    }
   },
   "outputs": [],
   "source": [
    "# visualize an example \n",
    "\n",
    "index = np.random.randint(N_SAMPLES_val)\n",
    "\n",
    "mask = cv2.imread(VAL_DATA_PATH+f'/img{index}.png')/255\n",
    "df = pd.read_csv(VAL_DATA_PATH+'/waypoints.csv')\n",
    "points = df.loc[df['N_img'] == f'img{index}'].to_numpy()[:,1:].astype('uint32')\n",
    "visualize_mask(mask, wp=points, dim=(10,10), rad=3)"
   ]
  },
  {
   "cell_type": "markdown",
   "metadata": {},
   "source": [
    "## Test dataset generation"
   ]
  },
  {
   "cell_type": "code",
   "execution_count": null,
   "metadata": {
    "ExecuteTime": {
     "end_time": "2022-06-21T15:08:02.936138Z",
     "start_time": "2022-06-21T15:07:53.708359Z"
    },
    "scrolled": false
   },
   "outputs": [],
   "source": [
    "if os.path.isdir(TEST_DATA_PATH):\n",
    "    shutil.rmtree(TEST_DATA_PATH)\n",
    "os.makedirs(TEST_DATA_PATH)\n",
    "\n",
    "wp_dic = {}\n",
    "i = 0\n",
    "for sample in tqdm(range(N_SAMPLES_test)):\n",
    "    mask,wp,centers,points = get_mask_and_wp()\n",
    "    save_img(mask,sample,data_path=TEST_DATA_PATH)\n",
    "\n",
    "    #save waypoints in the dict\n",
    "    for index in range(len(wp)):\n",
    "        wp_dic[i] = {'N_img':\"img{}\".format(sample),'x_wp':wp[index][0],'y_wp':wp[index][1], 'class': index%2}\n",
    "        i +=1\n",
    "\n",
    "    #visualize_mask(mask,wp=wp,rad=3,dim=(12,12))\n",
    "\n",
    "#save the datafame\n",
    "df = pd.DataFrame.from_dict(wp_dic, \"index\")\n",
    "df.to_csv(TEST_DATA_PATH+'/waypoints.csv', index=False)"
   ]
  },
  {
   "cell_type": "code",
   "execution_count": null,
   "metadata": {
    "ExecuteTime": {
     "end_time": "2022-06-21T15:08:03.200661Z",
     "start_time": "2022-06-21T15:08:02.968395Z"
    }
   },
   "outputs": [],
   "source": [
    "# visualize an example \n",
    "\n",
    "index = np.random.randint(N_SAMPLES_test)\n",
    "\n",
    "mask = cv2.imread(TEST_DATA_PATH+f'/img{index}.png')/255\n",
    "df = pd.read_csv(TEST_DATA_PATH+'/waypoints.csv')\n",
    "points = df.loc[df['N_img'] == f'img{index}'].to_numpy()[:,1:].astype('uint32')\n",
    "visualize_mask(mask, wp=points, dim=(10,10), rad=3)"
   ]
  }
 ],
 "metadata": {
  "kernelspec": {
   "display_name": "Python 3 (ipykernel)",
   "language": "python",
   "name": "python3"
  },
  "language_info": {
   "codemirror_mode": {
    "name": "ipython",
    "version": 3
   },
   "file_extension": ".py",
   "mimetype": "text/x-python",
   "name": "python",
   "nbconvert_exporter": "python",
   "pygments_lexer": "ipython3",
   "version": "3.6.9"
  },
  "toc": {
   "base_numbering": 1,
   "nav_menu": {},
   "number_sections": true,
   "sideBar": true,
   "skip_h1_title": true,
   "title_cell": "Table of Contents",
   "title_sidebar": "Contents",
   "toc_cell": false,
   "toc_position": {
    "height": "calc(100% - 180px)",
    "left": "10px",
    "top": "150px",
    "width": "384px"
   },
   "toc_section_display": true,
   "toc_window_display": true
  },
  "varInspector": {
   "cols": {
    "lenName": 16,
    "lenType": 16,
    "lenVar": 40
   },
   "kernels_config": {
    "python": {
     "delete_cmd_postfix": "",
     "delete_cmd_prefix": "del ",
     "library": "var_list.py",
     "varRefreshCmd": "print(var_dic_list())"
    },
    "r": {
     "delete_cmd_postfix": ") ",
     "delete_cmd_prefix": "rm(",
     "library": "var_list.r",
     "varRefreshCmd": "cat(var_dic_list()) "
    }
   },
   "types_to_exclude": [
    "module",
    "function",
    "builtin_function_or_method",
    "instance",
    "_Feature"
   ],
   "window_display": false
  }
 },
 "nbformat": 4,
 "nbformat_minor": 4
}
