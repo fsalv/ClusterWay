{
 "cells": [
  {
   "cell_type": "markdown",
   "metadata": {},
   "source": [
    "# Visualization\n",
    "\n",
    "Test ClusterWay to automatically detect waypoints from a occupancy grid map of a row based crop and cluster them."
   ]
  },
  {
   "cell_type": "code",
   "execution_count": null,
   "metadata": {
    "ExecuteTime": {
     "end_time": "2022-06-23T08:57:22.665188Z",
     "start_time": "2022-06-23T08:57:22.629475Z"
    }
   },
   "outputs": [],
   "source": [
    "%reload_ext autoreload\n",
    "%autoreload 2"
   ]
  },
  {
   "cell_type": "code",
   "execution_count": null,
   "metadata": {
    "ExecuteTime": {
     "end_time": "2022-06-23T09:13:28.894545Z",
     "start_time": "2022-06-23T09:13:27.113810Z"
    }
   },
   "outputs": [],
   "source": [
    "import os\n",
    "import numpy as np\n",
    "import tensorflow as tf\n",
    "\n",
    "from utils.tools import load_config, deepWayLoss, clusterLoss\n",
    "from utils.models import build_deepway, build_clusterway\n",
    "from utils.dataset import load_dataset_test\n",
    "from utils.train import Trainer\n",
    "from utils.visualization import RotationalPredictor"
   ]
  },
  {
   "cell_type": "code",
   "execution_count": null,
   "metadata": {
    "ExecuteTime": {
     "end_time": "2022-06-23T09:13:29.382433Z",
     "start_time": "2022-06-23T09:13:29.351577Z"
    }
   },
   "outputs": [],
   "source": [
    "# select a GPU and set memory growth \n",
    "gpus = tf.config.list_physical_devices('GPU')\n",
    "tf.config.set_visible_devices(gpus[0], 'GPU')\n",
    "tf.config.experimental.set_memory_growth(gpus[0], True)"
   ]
  },
  {
   "cell_type": "code",
   "execution_count": null,
   "metadata": {
    "ExecuteTime": {
     "end_time": "2022-06-23T09:13:29.634422Z",
     "start_time": "2022-06-23T09:13:29.631436Z"
    }
   },
   "outputs": [],
   "source": [
    "# important paths and names\n",
    "PATH_DIR = os.path.abspath('.')\n",
    "PATH_WEIGHTS = os.path.join(PATH_DIR, 'bin')\n",
    "\n",
    "TEST_DATA_PATH = os.path.join(PATH_DIR, '../Datasets/straight/test')\n",
    "TEST_CURVED_DATA_PATH = os.path.join(PATH_DIR, '../Datasets/curved/test') # curved\n",
    "SATELLITE_DATA_PATH = os.path.join(PATH_DIR, '../Datasets/satellite/')\n",
    "SATELLITE_CURVED_DATA_PATH = os.path.join(PATH_DIR, '../Datasets/satellite_curved') # curved\n",
    "\n",
    "config_file = 'config.json'\n",
    "config = load_config(config_file)"
   ]
  },
  {
   "cell_type": "code",
   "execution_count": null,
   "metadata": {
    "ExecuteTime": {
     "end_time": "2022-06-23T09:01:20.004898Z",
     "start_time": "2022-06-23T09:01:19.982967Z"
    }
   },
   "outputs": [],
   "source": [
    "#select model\n",
    "\n",
    "#name_model = 'deep_way_pretrained'\n",
    "name_model = 'cluster_way_pretrained'\n",
    "CURVED = False\n",
    "I = 0\n",
    "\n",
    "name_model += '_curved' if CURVED else ''\n",
    "name_model += f'_{I}'\n",
    "name_model"
   ]
  },
  {
   "cell_type": "markdown",
   "metadata": {},
   "source": [
    "# 1 Import the Test Dataset"
   ]
  },
  {
   "cell_type": "code",
   "execution_count": null,
   "metadata": {
    "ExecuteTime": {
     "end_time": "2022-06-23T09:01:03.850659Z",
     "start_time": "2022-06-23T09:01:03.499087Z"
    }
   },
   "outputs": [],
   "source": [
    "#choose target dataset\n",
    "img_folder = SATELLITE_DATA_PATH\n",
    "\n",
    "X_test, y_test, y_cluster_test, df_waypoints_test = load_dataset_test(img_folder, config)\n",
    "print(X_test.shape, y_test.shape, y_cluster_test.shape)"
   ]
  },
  {
   "cell_type": "markdown",
   "metadata": {},
   "source": [
    "# 2 Create the model"
   ]
  },
  {
   "cell_type": "code",
   "execution_count": null,
   "metadata": {
    "ExecuteTime": {
     "end_time": "2022-06-23T09:01:38.190205Z",
     "start_time": "2022-06-23T09:01:37.872346Z"
    }
   },
   "outputs": [],
   "source": [
    "# create model\n",
    "tf.keras.backend.clear_session()\n",
    "if 'deep_way' in name_model:\n",
    "    deepway_net = build_deepway(name_model, config['FILTERS'],\n",
    "                            config['KERNEL_SIZE'],\n",
    "                            config['R'], config['MASK_DIM'])\n",
    "elif 'cluster_way' in name_model:\n",
    "    j = name_model.find('cluster_way')\n",
    "    name_classic = name_model[:j] + 'deep_way' + name_model[j+11:]\n",
    "    model_classic = build_deepway(name_classic, config['FILTERS'],\n",
    "                            config['KERNEL_SIZE'],\n",
    "                            config['R'], config['MASK_DIM'], True)\n",
    "\n",
    "    deepway_net = build_clusterway(name_model, model_classic, config['FILTERS'],\n",
    "                            config['KERNEL_SIZE'], out_feats=config['OUT_FEATS'])\n",
    "else:\n",
    "    raise ValueError(f'Wrong model {name_model}.')"
   ]
  },
  {
   "cell_type": "code",
   "execution_count": null,
   "metadata": {
    "ExecuteTime": {
     "end_time": "2022-06-23T09:01:38.549553Z",
     "start_time": "2022-06-23T09:01:38.506549Z"
    }
   },
   "outputs": [],
   "source": [
    "deepway_net.summary()"
   ]
  },
  {
   "cell_type": "code",
   "execution_count": null,
   "metadata": {
    "ExecuteTime": {
     "end_time": "2022-06-23T09:01:39.338547Z",
     "start_time": "2022-06-23T09:01:39.234633Z"
    }
   },
   "outputs": [],
   "source": [
    "# load weights\n",
    "loss={'mask': deepWayLoss('none')}\n",
    "if 'cluster_way' in name_model:\n",
    "    loss['features'] = clusterLoss('none')\n",
    "trainer = Trainer(deepway_net, config, loss=loss, optimizer=tf.keras.optimizers.Adam(0.), checkpoint_dir=PATH_WEIGHTS)"
   ]
  },
  {
   "cell_type": "markdown",
   "metadata": {},
   "source": [
    "# 3 Visualize predictions"
   ]
  },
  {
   "cell_type": "code",
   "execution_count": null,
   "metadata": {
    "ExecuteTime": {
     "end_time": "2022-06-23T09:01:42.110412Z",
     "start_time": "2022-06-23T09:01:40.271819Z"
    },
    "scrolled": false
   },
   "outputs": [],
   "source": [
    "predictor = RotationalPredictor(deepway_net, X_test, config)\n",
    "predictor.start()"
   ]
  }
 ],
 "metadata": {
  "kernelspec": {
   "display_name": "Python 3 (ipykernel)",
   "language": "python",
   "name": "python3"
  },
  "language_info": {
   "codemirror_mode": {
    "name": "ipython",
    "version": 3
   },
   "file_extension": ".py",
   "mimetype": "text/x-python",
   "name": "python",
   "nbconvert_exporter": "python",
   "pygments_lexer": "ipython3",
   "version": "3.6.9"
  },
  "toc": {
   "base_numbering": 1,
   "nav_menu": {},
   "number_sections": false,
   "sideBar": true,
   "skip_h1_title": false,
   "title_cell": "Table of Contents",
   "title_sidebar": "Contents",
   "toc_cell": false,
   "toc_position": {
    "height": "calc(100% - 180px)",
    "left": "10px",
    "top": "150px",
    "width": "202px"
   },
   "toc_section_display": true,
   "toc_window_display": true
  },
  "varInspector": {
   "cols": {
    "lenName": 16,
    "lenType": 16,
    "lenVar": 40
   },
   "kernels_config": {
    "python": {
     "delete_cmd_postfix": "",
     "delete_cmd_prefix": "del ",
     "library": "var_list.py",
     "varRefreshCmd": "print(var_dic_list())"
    },
    "r": {
     "delete_cmd_postfix": ") ",
     "delete_cmd_prefix": "rm(",
     "library": "var_list.r",
     "varRefreshCmd": "cat(var_dic_list()) "
    }
   },
   "types_to_exclude": [
    "module",
    "function",
    "builtin_function_or_method",
    "instance",
    "_Feature"
   ],
   "window_display": false
  }
 },
 "nbformat": 4,
 "nbformat_minor": 4
}
