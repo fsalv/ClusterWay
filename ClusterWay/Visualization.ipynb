{
 "cells": [
  {
   "cell_type": "markdown",
   "metadata": {},
   "source": [
    "# Visualization\n",
    "\n",
    "Test ClusterWay to automatically detect waypoints from a occupancy grid map of a row based crop and cluster them."
   ]
  },
  {
   "cell_type": "code",
   "execution_count": 1,
   "metadata": {
    "ExecuteTime": {
     "end_time": "2022-06-23T15:37:55.014896Z",
     "start_time": "2022-06-23T15:37:55.004146Z"
    }
   },
   "outputs": [],
   "source": [
    "%reload_ext autoreload\n",
    "%autoreload 2"
   ]
  },
  {
   "cell_type": "code",
   "execution_count": 2,
   "metadata": {
    "ExecuteTime": {
     "end_time": "2022-06-23T15:37:57.297442Z",
     "start_time": "2022-06-23T15:37:55.016232Z"
    }
   },
   "outputs": [],
   "source": [
    "import os\n",
    "import numpy as np\n",
    "import tensorflow as tf\n",
    "\n",
    "from utils.tools import load_config, deepWayLoss, clusterLoss\n",
    "from utils.models import build_deepway, build_clusterway\n",
    "from utils.dataset import load_dataset_test\n",
    "from utils.train import Trainer\n",
    "from utils.visualization import RotationalPredictor"
   ]
  },
  {
   "cell_type": "code",
   "execution_count": 3,
   "metadata": {
    "ExecuteTime": {
     "end_time": "2022-06-23T15:37:57.353178Z",
     "start_time": "2022-06-23T15:37:57.298609Z"
    }
   },
   "outputs": [],
   "source": [
    "# select a GPU and set memory growth \n",
    "gpus = tf.config.list_physical_devices('GPU')\n",
    "tf.config.set_visible_devices(gpus[1], 'GPU')\n",
    "tf.config.experimental.set_memory_growth(gpus[1], True)"
   ]
  },
  {
   "cell_type": "code",
   "execution_count": 4,
   "metadata": {
    "ExecuteTime": {
     "end_time": "2022-06-23T15:37:57.376759Z",
     "start_time": "2022-06-23T15:37:57.354674Z"
    }
   },
   "outputs": [],
   "source": [
    "# important paths and names\n",
    "PATH_DIR = os.path.abspath('.')\n",
    "PATH_WEIGHTS = os.path.join(PATH_DIR, 'bin')\n",
    "\n",
    "TEST_DATA_PATH = os.path.join(PATH_DIR, '../Datasets/straight/test')\n",
    "TEST_CURVED_DATA_PATH = os.path.join(PATH_DIR, '../Datasets/curved/test') # curved\n",
    "SATELLITE_DATA_PATH = os.path.join(PATH_DIR, '../Datasets/satellite/')\n",
    "SATELLITE_CURVED_DATA_PATH = os.path.join(PATH_DIR, '../Datasets/satellite_curved') # curved\n",
    "\n",
    "config_file = 'config.json'\n",
    "config = load_config(config_file)"
   ]
  },
  {
   "cell_type": "code",
   "execution_count": 5,
   "metadata": {
    "ExecuteTime": {
     "end_time": "2022-06-23T15:37:57.402504Z",
     "start_time": "2022-06-23T15:37:57.377802Z"
    }
   },
   "outputs": [
    {
     "data": {
      "text/plain": [
       "'cluster_way_pretrained_0'"
      ]
     },
     "execution_count": 5,
     "metadata": {},
     "output_type": "execute_result"
    }
   ],
   "source": [
    "#select model\n",
    "\n",
    "#name_model = 'deep_way_pretrained'\n",
    "name_model = 'cluster_way_pretrained'\n",
    "CURVED = False\n",
    "I = 0\n",
    "\n",
    "name_model += '_curved' if CURVED else ''\n",
    "name_model += f'_{I}'\n",
    "name_model"
   ]
  },
  {
   "cell_type": "markdown",
   "metadata": {},
   "source": [
    "# 1 Import the Test Dataset"
   ]
  },
  {
   "cell_type": "code",
   "execution_count": 6,
   "metadata": {
    "ExecuteTime": {
     "end_time": "2022-06-23T15:37:58.295617Z",
     "start_time": "2022-06-23T15:37:57.404115Z"
    }
   },
   "outputs": [
    {
     "name": "stderr",
     "output_type": "stream",
     "text": [
      "Loading test set: 100%|█████████████████████████████████████████████| 100/100 [00:00<00:00, 163.17it/s]\n"
     ]
    },
    {
     "name": "stdout",
     "output_type": "stream",
     "text": [
      "(100, 800, 800) (100, 100, 100, 3) (100, 100, 100)\n"
     ]
    }
   ],
   "source": [
    "#choose target dataset\n",
    "img_folder = SATELLITE_DATA_PATH\n",
    "\n",
    "X_test, y_test, y_cluster_test, df_waypoints_test = load_dataset_test(img_folder, config)\n",
    "print(X_test.shape, y_test.shape, y_cluster_test.shape)"
   ]
  },
  {
   "cell_type": "markdown",
   "metadata": {},
   "source": [
    "# 2 Create the model"
   ]
  },
  {
   "cell_type": "code",
   "execution_count": 7,
   "metadata": {
    "ExecuteTime": {
     "end_time": "2022-06-23T15:37:59.286684Z",
     "start_time": "2022-06-23T15:37:58.296989Z"
    }
   },
   "outputs": [],
   "source": [
    "# create model\n",
    "tf.keras.backend.clear_session()\n",
    "if 'deep_way' in name_model:\n",
    "    deepway_net = build_deepway(name_model, config['FILTERS'],\n",
    "                            config['KERNEL_SIZE'],\n",
    "                            config['R'], config['MASK_DIM'])\n",
    "elif 'cluster_way' in name_model:\n",
    "    j = name_model.find('cluster_way')\n",
    "    name_classic = name_model[:j] + 'deep_way' + name_model[j+11:]\n",
    "    model_classic = build_deepway(name_classic, config['FILTERS'],\n",
    "                            config['KERNEL_SIZE'],\n",
    "                            config['R'], config['MASK_DIM'], True)\n",
    "\n",
    "    deepway_net = build_clusterway(name_model, model_classic, config['FILTERS'],\n",
    "                            config['KERNEL_SIZE'], out_feats=config['OUT_FEATS'])\n",
    "else:\n",
    "    raise ValueError(f'Wrong model {name_model}.')"
   ]
  },
  {
   "cell_type": "code",
   "execution_count": 8,
   "metadata": {
    "ExecuteTime": {
     "end_time": "2022-06-23T15:37:59.332226Z",
     "start_time": "2022-06-23T15:37:59.287717Z"
    }
   },
   "outputs": [
    {
     "name": "stdout",
     "output_type": "stream",
     "text": [
      "Model: \"cluster_way_pretrained_0\"\n",
      "__________________________________________________________________________________________________\n",
      " Layer (type)                   Output Shape         Param #     Connected to                     \n",
      "==================================================================================================\n",
      " input_1 (InputLayer)           [(None, 800, 800)]   0           []                               \n",
      "                                                                                                  \n",
      " lambda (Lambda)                (None, 800, 800)     0           ['input_1[0][0]']                \n",
      "                                                                                                  \n",
      " lambda_1 (Lambda)              (None, 800, 800, 1)  0           ['lambda[0][0]']                 \n",
      "                                                                                                  \n",
      " conv2d (Conv2D)                (None, 400, 400, 16  800         ['lambda_1[0][0]']               \n",
      "                                )                                                                 \n",
      "                                                                                                  \n",
      " mish (Mish)                    (None, 400, 400, 16  0           ['conv2d[0][0]']                 \n",
      "                                )                                                                 \n",
      "                                                                                                  \n",
      " conv2d_1 (Conv2D)              (None, 400, 400, 16  6416        ['mish[0][0]']                   \n",
      "                                )                                                                 \n",
      "                                                                                                  \n",
      " mish_1 (Mish)                  (None, 400, 400, 16  0           ['conv2d_1[0][0]']               \n",
      "                                )                                                                 \n",
      "                                                                                                  \n",
      " global_average_pooling2d (Glob  (None, 16)          0           ['mish_1[0][0]']                 \n",
      " alAveragePooling2D)                                                                              \n",
      "                                                                                                  \n",
      " global_max_pooling2d (GlobalMa  (None, 16)          0           ['mish_1[0][0]']                 \n",
      " xPooling2D)                                                                                      \n",
      "                                                                                                  \n",
      " reshape (Reshape)              (None, 1, 1, 16)     0           ['global_average_pooling2d[0][0]'\n",
      "                                                                 ]                                \n",
      "                                                                                                  \n",
      " reshape_1 (Reshape)            (None, 1, 1, 16)     0           ['global_max_pooling2d[0][0]']   \n",
      "                                                                                                  \n",
      " dense (Dense)                  (None, 1, 1, 2)      34          ['reshape[0][0]',                \n",
      "                                                                  'reshape_1[0][0]']              \n",
      "                                                                                                  \n",
      " dense_1 (Dense)                (None, 1, 1, 16)     48          ['dense[0][0]',                  \n",
      "                                                                  'dense[1][0]']                  \n",
      "                                                                                                  \n",
      " add (Add)                      (None, 1, 1, 16)     0           ['dense_1[0][0]',                \n",
      "                                                                  'dense_1[1][0]']                \n",
      "                                                                                                  \n",
      " activation (Activation)        (None, 1, 1, 16)     0           ['add[0][0]']                    \n",
      "                                                                                                  \n",
      " multiply (Multiply)            (None, 400, 400, 16  0           ['mish_1[0][0]',                 \n",
      "                                )                                 'activation[0][0]']             \n",
      "                                                                                                  \n",
      " lambda_2 (Lambda)              (None, 400, 400, 1)  0           ['multiply[0][0]']               \n",
      "                                                                                                  \n",
      " lambda_3 (Lambda)              (None, 400, 400, 1)  0           ['multiply[0][0]']               \n",
      "                                                                                                  \n",
      " concatenate (Concatenate)      (None, 400, 400, 2)  0           ['lambda_2[0][0]',               \n",
      "                                                                  'lambda_3[0][0]']               \n",
      "                                                                                                  \n",
      " conv2d_2 (Conv2D)              (None, 400, 400, 1)  98          ['concatenate[0][0]']            \n",
      "                                                                                                  \n",
      " multiply_1 (Multiply)          (None, 400, 400, 16  0           ['multiply[0][0]',               \n",
      "                                )                                 'conv2d_2[0][0]']               \n",
      "                                                                                                  \n",
      " tf.__operators__.add (TFOpLamb  (None, 400, 400, 16  0          ['multiply_1[0][0]',             \n",
      " da)                            )                                 'mish[0][0]']                   \n",
      "                                                                                                  \n",
      " conv2d_4 (Conv2D)              (None, 200, 200, 16  272         ['tf.__operators__.add[0][0]']   \n",
      "                                )                                                                 \n",
      "                                                                                                  \n",
      " conv2d_3 (Conv2D)              (None, 200, 200, 16  6416        ['tf.__operators__.add[0][0]']   \n",
      "                                )                                                                 \n",
      "                                                                                                  \n",
      " mish_3 (Mish)                  (None, 200, 200, 16  0           ['conv2d_4[0][0]']               \n",
      "                                )                                                                 \n",
      "                                                                                                  \n",
      " mish_2 (Mish)                  (None, 200, 200, 16  0           ['conv2d_3[0][0]']               \n",
      "                                )                                                                 \n",
      "                                                                                                  \n",
      " tf.__operators__.add_1 (TFOpLa  (None, 200, 200, 16  0          ['mish_3[0][0]',                 \n",
      " mbda)                          )                                 'mish_2[0][0]']                 \n",
      "                                                                                                  \n",
      " conv2d_5 (Conv2D)              (None, 200, 200, 16  6416        ['tf.__operators__.add_1[0][0]'] \n",
      "                                )                                                                 \n",
      "                                                                                                  \n",
      " mish_4 (Mish)                  (None, 200, 200, 16  0           ['conv2d_5[0][0]']               \n",
      "                                )                                                                 \n",
      "                                                                                                  \n",
      " global_average_pooling2d_1 (Gl  (None, 16)          0           ['mish_4[0][0]']                 \n",
      " obalAveragePooling2D)                                                                            \n",
      "                                                                                                  \n",
      " global_max_pooling2d_1 (Global  (None, 16)          0           ['mish_4[0][0]']                 \n",
      " MaxPooling2D)                                                                                    \n",
      "                                                                                                  \n",
      " reshape_2 (Reshape)            (None, 1, 1, 16)     0           ['global_average_pooling2d_1[0][0\n",
      "                                                                 ]']                              \n",
      "                                                                                                  \n",
      " reshape_3 (Reshape)            (None, 1, 1, 16)     0           ['global_max_pooling2d_1[0][0]'] \n",
      "                                                                                                  \n",
      " dense_2 (Dense)                (None, 1, 1, 2)      34          ['reshape_2[0][0]',              \n",
      "                                                                  'reshape_3[0][0]']              \n",
      "                                                                                                  \n",
      " dense_3 (Dense)                (None, 1, 1, 16)     48          ['dense_2[0][0]',                \n",
      "                                                                  'dense_2[1][0]']                \n",
      "                                                                                                  \n",
      " add_1 (Add)                    (None, 1, 1, 16)     0           ['dense_3[0][0]',                \n",
      "                                                                  'dense_3[1][0]']                \n",
      "                                                                                                  \n",
      " activation_1 (Activation)      (None, 1, 1, 16)     0           ['add_1[0][0]']                  \n",
      "                                                                                                  \n",
      " multiply_2 (Multiply)          (None, 200, 200, 16  0           ['mish_4[0][0]',                 \n",
      "                                )                                 'activation_1[0][0]']           \n",
      "                                                                                                  \n",
      " lambda_4 (Lambda)              (None, 200, 200, 1)  0           ['multiply_2[0][0]']             \n",
      "                                                                                                  \n",
      " lambda_5 (Lambda)              (None, 200, 200, 1)  0           ['multiply_2[0][0]']             \n",
      "                                                                                                  \n",
      " concatenate_1 (Concatenate)    (None, 200, 200, 2)  0           ['lambda_4[0][0]',               \n",
      "                                                                  'lambda_5[0][0]']               \n",
      "                                                                                                  \n",
      " conv2d_6 (Conv2D)              (None, 200, 200, 1)  98          ['concatenate_1[0][0]']          \n",
      "                                                                                                  \n",
      " multiply_3 (Multiply)          (None, 200, 200, 16  0           ['multiply_2[0][0]',             \n",
      "                                )                                 'conv2d_6[0][0]']               \n",
      "                                                                                                  \n",
      " tf.__operators__.add_2 (TFOpLa  (None, 200, 200, 16  0          ['multiply_3[0][0]',             \n",
      " mbda)                          )                                 'tf.__operators__.add_1[0][0]'] \n",
      "                                                                                                  \n",
      " conv2d_8 (Conv2D)              (None, 100, 100, 16  272         ['tf.__operators__.add_2[0][0]'] \n",
      "                                )                                                                 \n",
      "                                                                                                  \n",
      " conv2d_7 (Conv2D)              (None, 100, 100, 16  6416        ['tf.__operators__.add_2[0][0]'] \n",
      "                                )                                                                 \n",
      "                                                                                                  \n",
      " mish_6 (Mish)                  (None, 100, 100, 16  0           ['conv2d_8[0][0]']               \n",
      "                                )                                                                 \n",
      "                                                                                                  \n",
      " mish_5 (Mish)                  (None, 100, 100, 16  0           ['conv2d_7[0][0]']               \n",
      "                                )                                                                 \n",
      "                                                                                                  \n",
      " tf.__operators__.add_3 (TFOpLa  (None, 100, 100, 16  0          ['mish_6[0][0]',                 \n",
      " mbda)                          )                                 'mish_5[0][0]']                 \n",
      "                                                                                                  \n",
      " conv2d_9 (Conv2D)              (None, 100, 100, 16  6416        ['tf.__operators__.add_3[0][0]'] \n",
      "                                )                                                                 \n",
      "                                                                                                  \n",
      " mish_7 (Mish)                  (None, 100, 100, 16  0           ['conv2d_9[0][0]']               \n",
      "                                )                                                                 \n",
      "                                                                                                  \n",
      " global_average_pooling2d_2 (Gl  (None, 16)          0           ['mish_7[0][0]']                 \n",
      " obalAveragePooling2D)                                                                            \n",
      "                                                                                                  \n",
      " global_max_pooling2d_2 (Global  (None, 16)          0           ['mish_7[0][0]']                 \n",
      " MaxPooling2D)                                                                                    \n",
      "                                                                                                  \n",
      " reshape_4 (Reshape)            (None, 1, 1, 16)     0           ['global_average_pooling2d_2[0][0\n",
      "                                                                 ]']                              \n",
      "                                                                                                  \n",
      " reshape_5 (Reshape)            (None, 1, 1, 16)     0           ['global_max_pooling2d_2[0][0]'] \n",
      "                                                                                                  \n",
      " dense_4 (Dense)                (None, 1, 1, 2)      34          ['reshape_4[0][0]',              \n",
      "                                                                  'reshape_5[0][0]']              \n",
      "                                                                                                  \n",
      " dense_5 (Dense)                (None, 1, 1, 16)     48          ['dense_4[0][0]',                \n",
      "                                                                  'dense_4[1][0]']                \n",
      "                                                                                                  \n",
      " add_2 (Add)                    (None, 1, 1, 16)     0           ['dense_5[0][0]',                \n",
      "                                                                  'dense_5[1][0]']                \n",
      "                                                                                                  \n",
      " activation_2 (Activation)      (None, 1, 1, 16)     0           ['add_2[0][0]']                  \n",
      "                                                                                                  \n",
      " multiply_4 (Multiply)          (None, 100, 100, 16  0           ['mish_7[0][0]',                 \n",
      "                                )                                 'activation_2[0][0]']           \n",
      "                                                                                                  \n",
      " lambda_6 (Lambda)              (None, 100, 100, 1)  0           ['multiply_4[0][0]']             \n",
      "                                                                                                  \n",
      " lambda_7 (Lambda)              (None, 100, 100, 1)  0           ['multiply_4[0][0]']             \n",
      "                                                                                                  \n",
      " concatenate_2 (Concatenate)    (None, 100, 100, 2)  0           ['lambda_6[0][0]',               \n",
      "                                                                  'lambda_7[0][0]']               \n",
      "                                                                                                  \n",
      " conv2d_10 (Conv2D)             (None, 100, 100, 1)  98          ['concatenate_2[0][0]']          \n",
      "                                                                                                  \n",
      " multiply_5 (Multiply)          (None, 100, 100, 16  0           ['multiply_4[0][0]',             \n",
      "                                )                                 'conv2d_10[0][0]']              \n",
      "                                                                                                  \n",
      " tf.__operators__.add_4 (TFOpLa  (None, 100, 100, 16  0          ['multiply_5[0][0]',             \n",
      " mbda)                          )                                 'tf.__operators__.add_3[0][0]'] \n",
      "                                                                                                  \n",
      " conv2d_12 (Conv2D)             (None, 50, 50, 16)   272         ['tf.__operators__.add_4[0][0]'] \n",
      "                                                                                                  \n",
      " conv2d_11 (Conv2D)             (None, 50, 50, 16)   6416        ['tf.__operators__.add_4[0][0]'] \n",
      "                                                                                                  \n",
      " mish_9 (Mish)                  (None, 50, 50, 16)   0           ['conv2d_12[0][0]']              \n",
      "                                                                                                  \n",
      " mish_8 (Mish)                  (None, 50, 50, 16)   0           ['conv2d_11[0][0]']              \n",
      "                                                                                                  \n",
      " tf.__operators__.add_5 (TFOpLa  (None, 50, 50, 16)  0           ['mish_9[0][0]',                 \n",
      " mbda)                                                            'mish_8[0][0]']                 \n",
      "                                                                                                  \n",
      " conv2d_transpose (Conv2DTransp  (None, 100, 100, 16  6416       ['tf.__operators__.add_5[0][0]'] \n",
      " ose)                           )                                                                 \n",
      "                                                                                                  \n",
      " mish_10 (Mish)                 (None, 100, 100, 16  0           ['conv2d_transpose[0][0]']       \n",
      "                                )                                                                 \n",
      "                                                                                                  \n",
      " concatenate_3 (Concatenate)    (None, 100, 100, 32  0           ['mish_10[0][0]',                \n",
      "                                )                                 'tf.__operators__.add_3[0][0]'] \n",
      "                                                                                                  \n",
      " conv2d_13 (Conv2D)             (None, 100, 100, 16  12816       ['concatenate_3[0][0]']          \n",
      "                                )                                                                 \n",
      "                                                                                                  \n",
      " mish_11 (Mish)                 (None, 100, 100, 16  0           ['conv2d_13[0][0]']              \n",
      "                                )                                                                 \n",
      "                                                                                                  \n",
      " conv2d_15 (Conv2D)             (None, 100, 100, 16  6416        ['mish_11[0][0]']                \n",
      "                                )                                                                 \n",
      "                                                                                                  \n",
      " mish_12 (Mish)                 (None, 100, 100, 16  0           ['conv2d_15[0][0]']              \n",
      "                                )                                                                 \n",
      "                                                                                                  \n",
      " conv2d_14 (Conv2D)             (None, 100, 100, 3)  51          ['mish_11[0][0]']                \n",
      "                                                                                                  \n",
      " conv2d_16 (Conv2D)             (None, 100, 100, 16  6416        ['mish_12[0][0]']                \n",
      "                                )                                                                 \n",
      "                                                                                                  \n",
      " lambda_8 (Lambda)              (None, 100, 100, 1)  0           ['conv2d_14[0][0]']              \n",
      "                                                                                                  \n",
      " lambda_9 (Lambda)              (None, 100, 100, 2)  0           ['conv2d_14[0][0]']              \n",
      "                                                                                                  \n",
      " mish_13 (Mish)                 (None, 100, 100, 16  0           ['conv2d_16[0][0]']              \n",
      "                                )                                                                 \n",
      "                                                                                                  \n",
      " activation_3 (Activation)      (None, 100, 100, 1)  0           ['lambda_8[0][0]']               \n",
      "                                                                                                  \n",
      " activation_4 (Activation)      (None, 100, 100, 2)  0           ['lambda_9[0][0]']               \n",
      "                                                                                                  \n",
      " features (Conv2D)              (None, 100, 100, 3)  51          ['mish_13[0][0]']                \n",
      "                                                                                                  \n",
      " concatenate_4 (Concatenate)    (None, 100, 100, 3)  0           ['activation_3[0][0]',           \n",
      "                                                                  'activation_4[0][0]']           \n",
      "                                                                                                  \n",
      "==================================================================================================\n",
      "Total params: 72,818\n",
      "Trainable params: 12,883\n",
      "Non-trainable params: 59,935\n",
      "__________________________________________________________________________________________________\n"
     ]
    }
   ],
   "source": [
    "deepway_net.summary()"
   ]
  },
  {
   "cell_type": "code",
   "execution_count": 9,
   "metadata": {
    "ExecuteTime": {
     "end_time": "2022-06-23T15:37:59.442891Z",
     "start_time": "2022-06-23T15:37:59.333176Z"
    }
   },
   "outputs": [
    {
     "name": "stdout",
     "output_type": "stream",
     "text": [
      "Model cluster_way_pretrained_0 restored from checkpoint at step 33286.\n"
     ]
    }
   ],
   "source": [
    "# load weights\n",
    "loss={'mask': deepWayLoss('none')}\n",
    "if 'cluster_way' in name_model:\n",
    "    loss['features'] = clusterLoss('none')\n",
    "trainer = Trainer(deepway_net, config, loss=loss, optimizer=tf.keras.optimizers.Adam(0.), checkpoint_dir=PATH_WEIGHTS)"
   ]
  },
  {
   "cell_type": "markdown",
   "metadata": {},
   "source": [
    "# 3 Visualize predictions"
   ]
  },
  {
   "cell_type": "code",
   "execution_count": 12,
   "metadata": {
    "ExecuteTime": {
     "end_time": "2022-06-23T15:38:59.427321Z",
     "start_time": "2022-06-23T15:38:58.127749Z"
    },
    "scrolled": false
   },
   "outputs": [
    {
     "data": {
      "application/vnd.jupyter.widget-view+json": {
       "model_id": "d1111f7e33db4d7b815d2ab6266e0138",
       "version_major": 2,
       "version_minor": 0
      },
      "text/plain": [
       "HBox(children=(BoundedIntText(value=0, description='Image:', max=99), Button(description='Reset', style=Button…"
      ]
     },
     "metadata": {},
     "output_type": "display_data"
    },
    {
     "data": {
      "application/vnd.jupyter.widget-view+json": {
       "model_id": "58603b4fbc184dd9a608c05a7b949466",
       "version_major": 2,
       "version_minor": 0
      },
      "text/plain": [
       "Output()"
      ]
     },
     "metadata": {},
     "output_type": "display_data"
    }
   ],
   "source": [
    "predictor = RotationalPredictor(deepway_net, X_test, config, dim=(10,10))\n",
    "predictor.start()"
   ]
  },
  {
   "cell_type": "code",
   "execution_count": null,
   "metadata": {},
   "outputs": [],
   "source": []
  }
 ],
 "metadata": {
  "kernelspec": {
   "display_name": "tensorflow",
   "language": "python",
   "name": "tensorflow"
  },
  "language_info": {
   "codemirror_mode": {
    "name": "ipython",
    "version": 3
   },
   "file_extension": ".py",
   "mimetype": "text/x-python",
   "name": "python",
   "nbconvert_exporter": "python",
   "pygments_lexer": "ipython3",
   "version": "3.9.9"
  },
  "toc": {
   "base_numbering": 1,
   "nav_menu": {},
   "number_sections": false,
   "sideBar": true,
   "skip_h1_title": false,
   "title_cell": "Table of Contents",
   "title_sidebar": "Contents",
   "toc_cell": false,
   "toc_position": {
    "height": "calc(100% - 180px)",
    "left": "10px",
    "top": "150px",
    "width": "202px"
   },
   "toc_section_display": true,
   "toc_window_display": true
  },
  "varInspector": {
   "cols": {
    "lenName": 16,
    "lenType": 16,
    "lenVar": 40
   },
   "kernels_config": {
    "python": {
     "delete_cmd_postfix": "",
     "delete_cmd_prefix": "del ",
     "library": "var_list.py",
     "varRefreshCmd": "print(var_dic_list())"
    },
    "r": {
     "delete_cmd_postfix": ") ",
     "delete_cmd_prefix": "rm(",
     "library": "var_list.r",
     "varRefreshCmd": "cat(var_dic_list()) "
    }
   },
   "types_to_exclude": [
    "module",
    "function",
    "builtin_function_or_method",
    "instance",
    "_Feature"
   ],
   "window_display": false
  }
 },
 "nbformat": 4,
 "nbformat_minor": 4
}
