{
 "cells": [
  {
   "cell_type": "markdown",
   "metadata": {},
   "source": [
    "# Visualization\n",
    "\n",
    "Test ClusterWay to automatically detect waypoints from a occupancy grid map of a row based crop and cluster them."
   ]
  },
  {
   "cell_type": "code",
   "execution_count": null,
   "metadata": {
    "ExecuteTime": {
     "end_time": "2022-06-23T08:57:22.665188Z",
     "start_time": "2022-06-23T08:57:22.629475Z"
    }
   },
   "outputs": [],
   "source": [
    "%reload_ext autoreload\n",
    "%autoreload 2"
   ]
  },
  {
   "cell_type": "code",
   "execution_count": 1,
   "metadata": {
    "ExecuteTime": {
     "end_time": "2022-06-23T09:13:28.894545Z",
     "start_time": "2022-06-23T09:13:27.113810Z"
    }
   },
   "outputs": [],
   "source": [
    "import os\n",
    "import numpy as np\n",
    "import tensorflow as tf\n",
    "\n",
    "from utils.tools import load_config, deepWayLoss, clusterLoss\n",
    "from utils.models import build_deepway, build_clusterway\n",
    "from utils.dataset import load_dataset_test\n",
    "from utils.train import Trainer\n",
    "from utils.visualization import RotationalPredictor"
   ]
  },
  {
   "cell_type": "code",
   "execution_count": 2,
   "metadata": {
    "ExecuteTime": {
     "end_time": "2022-06-23T09:13:29.382433Z",
     "start_time": "2022-06-23T09:13:29.351577Z"
    }
   },
   "outputs": [],
   "source": [
    "# select a GPU and set memory growth \n",
    "gpus = tf.config.list_physical_devices('GPU')\n",
    "tf.config.set_visible_devices(gpus[0], 'GPU')\n",
    "tf.config.experimental.set_memory_growth(gpus[0], True)"
   ]
  },
  {
   "cell_type": "code",
   "execution_count": 3,
   "metadata": {
    "ExecuteTime": {
     "end_time": "2022-06-23T09:13:29.634422Z",
     "start_time": "2022-06-23T09:13:29.631436Z"
    }
   },
   "outputs": [],
   "source": [
    "# important paths and names\n",
    "PATH_DIR = os.path.abspath('.')\n",
    "PATH_WEIGHTS = os.path.join(PATH_DIR, 'bin')\n",
    "\n",
    "TEST_DATA_PATH = os.path.join(PATH_DIR, '../Datasets/straight/test')\n",
    "TEST_CURVED_DATA_PATH = os.path.join(PATH_DIR, '../Datasets/curved/test') # curved\n",
    "SATELLITE_DATA_PATH = os.path.join(PATH_DIR, '../Datasets/satellite/')\n",
    "SATELLITE_CURVED_DATA_PATH = os.path.join(PATH_DIR, '../Datasets/satellite_curved') # curved\n",
    "\n",
    "config_file = 'config.json'\n",
    "config = load_config(config_file)"
   ]
  },
  {
   "cell_type": "code",
   "execution_count": null,
   "metadata": {
    "ExecuteTime": {
     "end_time": "2022-06-23T09:01:20.004898Z",
     "start_time": "2022-06-23T09:01:19.982967Z"
    }
   },
   "outputs": [],
   "source": [
    "#select model\n",
    "\n",
    "#name_model = 'deep_way_pretrained'\n",
    "name_model = 'cluster_way_pretrained'\n",
    "CURVED = False\n",
    "I = 0\n",
    "\n",
    "name_model += '_curved' if CURVED else ''\n",
    "name_model += f'_{I}'\n",
    "name_model"
   ]
  },
  {
   "cell_type": "markdown",
   "metadata": {},
   "source": [
    "# 1 Import the Test Dataset"
   ]
  },
  {
   "cell_type": "code",
   "execution_count": null,
   "metadata": {
    "ExecuteTime": {
     "end_time": "2022-06-23T09:01:03.850659Z",
     "start_time": "2022-06-23T09:01:03.499087Z"
    }
   },
   "outputs": [],
   "source": [
    "#choose target dataset\n",
    "img_folder = SATELLITE_DATA_PATH\n",
    "\n",
    "X_test, y_test, y_cluster_test, df_waypoints_test = load_dataset_test(img_folder, config)\n",
    "print(X_test.shape, y_test.shape, y_cluster_test.shape)"
   ]
  },
  {
   "cell_type": "markdown",
   "metadata": {},
   "source": [
    "# 2 Create the model"
   ]
  },
  {
   "cell_type": "code",
   "execution_count": null,
   "metadata": {
    "ExecuteTime": {
     "end_time": "2022-06-23T09:01:38.190205Z",
     "start_time": "2022-06-23T09:01:37.872346Z"
    }
   },
   "outputs": [],
   "source": [
    "# create model\n",
    "tf.keras.backend.clear_session()\n",
    "if 'deep_way' in name_model:\n",
    "    deepway_net = build_deepway(name_model, config['FILTERS'],\n",
    "                            config['KERNEL_SIZE'],\n",
    "                            config['N'], config['MASK_DIM'])\n",
    "elif 'cluster_way' in name_model:\n",
    "    name_classic = f'deep_way{\"_curved\" if CURVED else \"\"}_{I}'\n",
    "\n",
    "    model_classic = build_deepway(name_classic, config['FILTERS'],\n",
    "                            config['KERNEL_SIZE'],\n",
    "                            config['N'], config['MASK_DIM'], True)\n",
    "\n",
    "    deepway_net = build_clusterway(name_model, model_classic, config['FILTERS'],\n",
    "                            config['KERNEL_SIZE'], config['MASK_DIM'], \n",
    "                            out_feats=config['OUT_FEATS'])\n",
    "else:\n",
    "    raise ValueError(f'Wrong model {name_model}.')"
   ]
  },
  {
   "cell_type": "code",
   "execution_count": null,
   "metadata": {
    "ExecuteTime": {
     "end_time": "2022-06-23T09:01:38.549553Z",
     "start_time": "2022-06-23T09:01:38.506549Z"
    }
   },
   "outputs": [],
   "source": [
    "deepway_net.summary()"
   ]
  },
  {
   "cell_type": "code",
   "execution_count": null,
   "metadata": {
    "ExecuteTime": {
     "end_time": "2022-06-23T09:01:39.338547Z",
     "start_time": "2022-06-23T09:01:39.234633Z"
    }
   },
   "outputs": [],
   "source": [
    "# load weights\n",
    "loss={'mask': deepWayLoss('none')}\n",
    "if 'cluster_way' in name_model:\n",
    "    loss['features'] = clusterLoss('none')\n",
    "trainer = Trainer(deepway_net, config, loss=loss, optimizer=tf.keras.optimizers.Adam(0.), checkpoint_dir=PATH_WEIGHTS)"
   ]
  },
  {
   "cell_type": "markdown",
   "metadata": {},
   "source": [
    "# 3 Visualize predictions"
   ]
  },
  {
   "cell_type": "code",
   "execution_count": null,
   "metadata": {
    "ExecuteTime": {
     "end_time": "2022-06-23T09:01:42.110412Z",
     "start_time": "2022-06-23T09:01:40.271819Z"
    },
    "scrolled": false
   },
   "outputs": [],
   "source": [
    "predictor = RotationalPredictor(deepway_net, X_test, config)\n",
    "predictor.start()"
   ]
  },
  {
   "cell_type": "code",
   "execution_count": null,
   "metadata": {},
   "outputs": [],
   "source": []
  },
  {
   "cell_type": "code",
   "execution_count": null,
   "metadata": {},
   "outputs": [],
   "source": []
  },
  {
   "cell_type": "code",
   "execution_count": 8,
   "metadata": {
    "ExecuteTime": {
     "end_time": "2022-06-23T09:16:54.506312Z",
     "start_time": "2022-06-23T09:16:54.503325Z"
    }
   },
   "outputs": [],
   "source": [
    "from glob import glob\n",
    "import shutil"
   ]
  },
  {
   "cell_type": "code",
   "execution_count": 14,
   "metadata": {
    "ExecuteTime": {
     "end_time": "2022-06-23T09:19:03.376183Z",
     "start_time": "2022-06-23T09:19:03.373079Z"
    }
   },
   "outputs": [],
   "source": [
    "get_n = lambda x: int(x.split('/')[-1][3:-4])"
   ]
  },
  {
   "cell_type": "code",
   "execution_count": 16,
   "metadata": {
    "ExecuteTime": {
     "end_time": "2022-06-23T09:19:42.449427Z",
     "start_time": "2022-06-23T09:19:42.440208Z"
    }
   },
   "outputs": [],
   "source": [
    "for img in sorted(glob(SATELLITE_CURVED_DATA_PATH+'/*.png'), key=get_n):\n",
    "    shutil.copy(img, SATELLITE_CURVED_DATA_PATH+f'/correct/img{get_n(img)-1}.png')"
   ]
  },
  {
   "cell_type": "code",
   "execution_count": 15,
   "metadata": {
    "ExecuteTime": {
     "end_time": "2022-06-23T09:19:08.593592Z",
     "start_time": "2022-06-23T09:19:08.589808Z"
    }
   },
   "outputs": [
    {
     "data": {
      "text/plain": [
       "(150, 'img150.png')"
      ]
     },
     "execution_count": 15,
     "metadata": {},
     "output_type": "execute_result"
    }
   ],
   "source": [
    "get_n(img), get_name(img)"
   ]
  },
  {
   "cell_type": "code",
   "execution_count": 17,
   "metadata": {
    "ExecuteTime": {
     "end_time": "2022-06-23T09:19:56.927503Z",
     "start_time": "2022-06-23T09:19:56.925240Z"
    }
   },
   "outputs": [],
   "source": [
    "import pandas as pd"
   ]
  },
  {
   "cell_type": "code",
   "execution_count": 37,
   "metadata": {
    "ExecuteTime": {
     "end_time": "2022-06-23T09:23:04.239823Z",
     "start_time": "2022-06-23T09:23:04.231259Z"
    }
   },
   "outputs": [
    {
     "data": {
      "text/html": [
       "<div>\n",
       "<style scoped>\n",
       "    .dataframe tbody tr th:only-of-type {\n",
       "        vertical-align: middle;\n",
       "    }\n",
       "\n",
       "    .dataframe tbody tr th {\n",
       "        vertical-align: top;\n",
       "    }\n",
       "\n",
       "    .dataframe thead th {\n",
       "        text-align: right;\n",
       "    }\n",
       "</style>\n",
       "<table border=\"1\" class=\"dataframe\">\n",
       "  <thead>\n",
       "    <tr style=\"text-align: right;\">\n",
       "      <th></th>\n",
       "      <th>N_img</th>\n",
       "      <th>x_wp</th>\n",
       "      <th>y_wp</th>\n",
       "      <th>class</th>\n",
       "    </tr>\n",
       "  </thead>\n",
       "  <tbody>\n",
       "    <tr>\n",
       "      <th>0</th>\n",
       "      <td>img101</td>\n",
       "      <td>315</td>\n",
       "      <td>73</td>\n",
       "      <td>0</td>\n",
       "    </tr>\n",
       "    <tr>\n",
       "      <th>1</th>\n",
       "      <td>img101</td>\n",
       "      <td>708</td>\n",
       "      <td>94</td>\n",
       "      <td>1</td>\n",
       "    </tr>\n",
       "    <tr>\n",
       "      <th>2</th>\n",
       "      <td>img101</td>\n",
       "      <td>291</td>\n",
       "      <td>118</td>\n",
       "      <td>0</td>\n",
       "    </tr>\n",
       "    <tr>\n",
       "      <th>3</th>\n",
       "      <td>img101</td>\n",
       "      <td>704</td>\n",
       "      <td>115</td>\n",
       "      <td>1</td>\n",
       "    </tr>\n",
       "    <tr>\n",
       "      <th>4</th>\n",
       "      <td>img101</td>\n",
       "      <td>279</td>\n",
       "      <td>141</td>\n",
       "      <td>0</td>\n",
       "    </tr>\n",
       "    <tr>\n",
       "      <th>...</th>\n",
       "      <td>...</td>\n",
       "      <td>...</td>\n",
       "      <td>...</td>\n",
       "      <td>...</td>\n",
       "    </tr>\n",
       "    <tr>\n",
       "      <th>1899</th>\n",
       "      <td>img150</td>\n",
       "      <td>671</td>\n",
       "      <td>662</td>\n",
       "      <td>1</td>\n",
       "    </tr>\n",
       "    <tr>\n",
       "      <th>1900</th>\n",
       "      <td>img150</td>\n",
       "      <td>227</td>\n",
       "      <td>455</td>\n",
       "      <td>0</td>\n",
       "    </tr>\n",
       "    <tr>\n",
       "      <th>1901</th>\n",
       "      <td>img150</td>\n",
       "      <td>670</td>\n",
       "      <td>689</td>\n",
       "      <td>1</td>\n",
       "    </tr>\n",
       "    <tr>\n",
       "      <th>1902</th>\n",
       "      <td>img150</td>\n",
       "      <td>215</td>\n",
       "      <td>480</td>\n",
       "      <td>0</td>\n",
       "    </tr>\n",
       "    <tr>\n",
       "      <th>1903</th>\n",
       "      <td>img150</td>\n",
       "      <td>662</td>\n",
       "      <td>716</td>\n",
       "      <td>1</td>\n",
       "    </tr>\n",
       "  </tbody>\n",
       "</table>\n",
       "<p>1904 rows × 4 columns</p>\n",
       "</div>"
      ],
      "text/plain": [
       "       N_img  x_wp  y_wp  class\n",
       "0     img101   315    73      0\n",
       "1     img101   708    94      1\n",
       "2     img101   291   118      0\n",
       "3     img101   704   115      1\n",
       "4     img101   279   141      0\n",
       "...      ...   ...   ...    ...\n",
       "1899  img150   671   662      1\n",
       "1900  img150   227   455      0\n",
       "1901  img150   670   689      1\n",
       "1902  img150   215   480      0\n",
       "1903  img150   662   716      1\n",
       "\n",
       "[1904 rows x 4 columns]"
      ]
     },
     "execution_count": 37,
     "metadata": {},
     "output_type": "execute_result"
    }
   ],
   "source": [
    "df = pd.read_csv(SATELLITE_CURVED_DATA_PATH+'/waypoints.csv')\n",
    "df"
   ]
  },
  {
   "cell_type": "code",
   "execution_count": 38,
   "metadata": {
    "ExecuteTime": {
     "end_time": "2022-06-23T09:23:05.000295Z",
     "start_time": "2022-06-23T09:23:04.997869Z"
    }
   },
   "outputs": [],
   "source": [
    "get_n = lambda x: int(x.split('/')[-1][3:])"
   ]
  },
  {
   "cell_type": "code",
   "execution_count": 39,
   "metadata": {
    "ExecuteTime": {
     "end_time": "2022-06-23T09:23:05.318694Z",
     "start_time": "2022-06-23T09:23:05.315473Z"
    }
   },
   "outputs": [],
   "source": [
    "N = [f'img{get_n(img)-1}' for img in df['N_img'].to_numpy()]"
   ]
  },
  {
   "cell_type": "code",
   "execution_count": 40,
   "metadata": {
    "ExecuteTime": {
     "end_time": "2022-06-23T09:23:05.691863Z",
     "start_time": "2022-06-23T09:23:05.686515Z"
    }
   },
   "outputs": [
    {
     "data": {
      "text/html": [
       "<div>\n",
       "<style scoped>\n",
       "    .dataframe tbody tr th:only-of-type {\n",
       "        vertical-align: middle;\n",
       "    }\n",
       "\n",
       "    .dataframe tbody tr th {\n",
       "        vertical-align: top;\n",
       "    }\n",
       "\n",
       "    .dataframe thead th {\n",
       "        text-align: right;\n",
       "    }\n",
       "</style>\n",
       "<table border=\"1\" class=\"dataframe\">\n",
       "  <thead>\n",
       "    <tr style=\"text-align: right;\">\n",
       "      <th></th>\n",
       "      <th>N_img</th>\n",
       "      <th>x_wp</th>\n",
       "      <th>y_wp</th>\n",
       "      <th>class</th>\n",
       "    </tr>\n",
       "  </thead>\n",
       "  <tbody>\n",
       "    <tr>\n",
       "      <th>0</th>\n",
       "      <td>img100</td>\n",
       "      <td>315</td>\n",
       "      <td>73</td>\n",
       "      <td>0</td>\n",
       "    </tr>\n",
       "    <tr>\n",
       "      <th>1</th>\n",
       "      <td>img100</td>\n",
       "      <td>708</td>\n",
       "      <td>94</td>\n",
       "      <td>1</td>\n",
       "    </tr>\n",
       "    <tr>\n",
       "      <th>2</th>\n",
       "      <td>img100</td>\n",
       "      <td>291</td>\n",
       "      <td>118</td>\n",
       "      <td>0</td>\n",
       "    </tr>\n",
       "    <tr>\n",
       "      <th>3</th>\n",
       "      <td>img100</td>\n",
       "      <td>704</td>\n",
       "      <td>115</td>\n",
       "      <td>1</td>\n",
       "    </tr>\n",
       "    <tr>\n",
       "      <th>4</th>\n",
       "      <td>img100</td>\n",
       "      <td>279</td>\n",
       "      <td>141</td>\n",
       "      <td>0</td>\n",
       "    </tr>\n",
       "    <tr>\n",
       "      <th>...</th>\n",
       "      <td>...</td>\n",
       "      <td>...</td>\n",
       "      <td>...</td>\n",
       "      <td>...</td>\n",
       "    </tr>\n",
       "    <tr>\n",
       "      <th>1899</th>\n",
       "      <td>img149</td>\n",
       "      <td>671</td>\n",
       "      <td>662</td>\n",
       "      <td>1</td>\n",
       "    </tr>\n",
       "    <tr>\n",
       "      <th>1900</th>\n",
       "      <td>img149</td>\n",
       "      <td>227</td>\n",
       "      <td>455</td>\n",
       "      <td>0</td>\n",
       "    </tr>\n",
       "    <tr>\n",
       "      <th>1901</th>\n",
       "      <td>img149</td>\n",
       "      <td>670</td>\n",
       "      <td>689</td>\n",
       "      <td>1</td>\n",
       "    </tr>\n",
       "    <tr>\n",
       "      <th>1902</th>\n",
       "      <td>img149</td>\n",
       "      <td>215</td>\n",
       "      <td>480</td>\n",
       "      <td>0</td>\n",
       "    </tr>\n",
       "    <tr>\n",
       "      <th>1903</th>\n",
       "      <td>img149</td>\n",
       "      <td>662</td>\n",
       "      <td>716</td>\n",
       "      <td>1</td>\n",
       "    </tr>\n",
       "  </tbody>\n",
       "</table>\n",
       "<p>1904 rows × 4 columns</p>\n",
       "</div>"
      ],
      "text/plain": [
       "       N_img  x_wp  y_wp  class\n",
       "0     img100   315    73      0\n",
       "1     img100   708    94      1\n",
       "2     img100   291   118      0\n",
       "3     img100   704   115      1\n",
       "4     img100   279   141      0\n",
       "...      ...   ...   ...    ...\n",
       "1899  img149   671   662      1\n",
       "1900  img149   227   455      0\n",
       "1901  img149   670   689      1\n",
       "1902  img149   215   480      0\n",
       "1903  img149   662   716      1\n",
       "\n",
       "[1904 rows x 4 columns]"
      ]
     },
     "execution_count": 40,
     "metadata": {},
     "output_type": "execute_result"
    }
   ],
   "source": [
    "df['N_img'] = N\n",
    "df"
   ]
  },
  {
   "cell_type": "code",
   "execution_count": 42,
   "metadata": {
    "ExecuteTime": {
     "end_time": "2022-06-23T09:24:03.582614Z",
     "start_time": "2022-06-23T09:24:03.578141Z"
    }
   },
   "outputs": [],
   "source": [
    "df.to_csv(SATELLITE_CURVED_DATA_PATH+'/correct/waypoints.csv', index=False)"
   ]
  },
  {
   "cell_type": "code",
   "execution_count": 43,
   "metadata": {
    "ExecuteTime": {
     "end_time": "2022-06-23T09:24:10.706612Z",
     "start_time": "2022-06-23T09:24:10.698000Z"
    }
   },
   "outputs": [
    {
     "data": {
      "text/html": [
       "<div>\n",
       "<style scoped>\n",
       "    .dataframe tbody tr th:only-of-type {\n",
       "        vertical-align: middle;\n",
       "    }\n",
       "\n",
       "    .dataframe tbody tr th {\n",
       "        vertical-align: top;\n",
       "    }\n",
       "\n",
       "    .dataframe thead th {\n",
       "        text-align: right;\n",
       "    }\n",
       "</style>\n",
       "<table border=\"1\" class=\"dataframe\">\n",
       "  <thead>\n",
       "    <tr style=\"text-align: right;\">\n",
       "      <th></th>\n",
       "      <th>N_img</th>\n",
       "      <th>x_wp</th>\n",
       "      <th>y_wp</th>\n",
       "      <th>class</th>\n",
       "    </tr>\n",
       "  </thead>\n",
       "  <tbody>\n",
       "    <tr>\n",
       "      <th>0</th>\n",
       "      <td>img100</td>\n",
       "      <td>315</td>\n",
       "      <td>73</td>\n",
       "      <td>0</td>\n",
       "    </tr>\n",
       "    <tr>\n",
       "      <th>1</th>\n",
       "      <td>img100</td>\n",
       "      <td>708</td>\n",
       "      <td>94</td>\n",
       "      <td>1</td>\n",
       "    </tr>\n",
       "    <tr>\n",
       "      <th>2</th>\n",
       "      <td>img100</td>\n",
       "      <td>291</td>\n",
       "      <td>118</td>\n",
       "      <td>0</td>\n",
       "    </tr>\n",
       "    <tr>\n",
       "      <th>3</th>\n",
       "      <td>img100</td>\n",
       "      <td>704</td>\n",
       "      <td>115</td>\n",
       "      <td>1</td>\n",
       "    </tr>\n",
       "    <tr>\n",
       "      <th>4</th>\n",
       "      <td>img100</td>\n",
       "      <td>279</td>\n",
       "      <td>141</td>\n",
       "      <td>0</td>\n",
       "    </tr>\n",
       "    <tr>\n",
       "      <th>...</th>\n",
       "      <td>...</td>\n",
       "      <td>...</td>\n",
       "      <td>...</td>\n",
       "      <td>...</td>\n",
       "    </tr>\n",
       "    <tr>\n",
       "      <th>1899</th>\n",
       "      <td>img149</td>\n",
       "      <td>671</td>\n",
       "      <td>662</td>\n",
       "      <td>1</td>\n",
       "    </tr>\n",
       "    <tr>\n",
       "      <th>1900</th>\n",
       "      <td>img149</td>\n",
       "      <td>227</td>\n",
       "      <td>455</td>\n",
       "      <td>0</td>\n",
       "    </tr>\n",
       "    <tr>\n",
       "      <th>1901</th>\n",
       "      <td>img149</td>\n",
       "      <td>670</td>\n",
       "      <td>689</td>\n",
       "      <td>1</td>\n",
       "    </tr>\n",
       "    <tr>\n",
       "      <th>1902</th>\n",
       "      <td>img149</td>\n",
       "      <td>215</td>\n",
       "      <td>480</td>\n",
       "      <td>0</td>\n",
       "    </tr>\n",
       "    <tr>\n",
       "      <th>1903</th>\n",
       "      <td>img149</td>\n",
       "      <td>662</td>\n",
       "      <td>716</td>\n",
       "      <td>1</td>\n",
       "    </tr>\n",
       "  </tbody>\n",
       "</table>\n",
       "<p>1904 rows × 4 columns</p>\n",
       "</div>"
      ],
      "text/plain": [
       "       N_img  x_wp  y_wp  class\n",
       "0     img100   315    73      0\n",
       "1     img100   708    94      1\n",
       "2     img100   291   118      0\n",
       "3     img100   704   115      1\n",
       "4     img100   279   141      0\n",
       "...      ...   ...   ...    ...\n",
       "1899  img149   671   662      1\n",
       "1900  img149   227   455      0\n",
       "1901  img149   670   689      1\n",
       "1902  img149   215   480      0\n",
       "1903  img149   662   716      1\n",
       "\n",
       "[1904 rows x 4 columns]"
      ]
     },
     "execution_count": 43,
     "metadata": {},
     "output_type": "execute_result"
    }
   ],
   "source": [
    "df = pd.read_csv(SATELLITE_CURVED_DATA_PATH+'/correct/waypoints.csv')\n",
    "df"
   ]
  },
  {
   "cell_type": "code",
   "execution_count": null,
   "metadata": {},
   "outputs": [],
   "source": []
  }
 ],
 "metadata": {
  "kernelspec": {
   "display_name": "tensorflow",
   "language": "python",
   "name": "tensorflow"
  },
  "language_info": {
   "codemirror_mode": {
    "name": "ipython",
    "version": 3
   },
   "file_extension": ".py",
   "mimetype": "text/x-python",
   "name": "python",
   "nbconvert_exporter": "python",
   "pygments_lexer": "ipython3",
   "version": "3.9.9"
  },
  "toc": {
   "base_numbering": 1,
   "nav_menu": {},
   "number_sections": false,
   "sideBar": true,
   "skip_h1_title": false,
   "title_cell": "Table of Contents",
   "title_sidebar": "Contents",
   "toc_cell": false,
   "toc_position": {
    "height": "calc(100% - 180px)",
    "left": "10px",
    "top": "150px",
    "width": "202px"
   },
   "toc_section_display": true,
   "toc_window_display": true
  },
  "varInspector": {
   "cols": {
    "lenName": 16,
    "lenType": 16,
    "lenVar": 40
   },
   "kernels_config": {
    "python": {
     "delete_cmd_postfix": "",
     "delete_cmd_prefix": "del ",
     "library": "var_list.py",
     "varRefreshCmd": "print(var_dic_list())"
    },
    "r": {
     "delete_cmd_postfix": ") ",
     "delete_cmd_prefix": "rm(",
     "library": "var_list.r",
     "varRefreshCmd": "cat(var_dic_list()) "
    }
   },
   "types_to_exclude": [
    "module",
    "function",
    "builtin_function_or_method",
    "instance",
    "_Feature"
   ],
   "window_display": false
  }
 },
 "nbformat": 4,
 "nbformat_minor": 4
}
